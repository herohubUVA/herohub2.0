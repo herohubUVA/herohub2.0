{
 "cells": [
  {
   "cell_type": "code",
   "execution_count": 1,
   "id": "2964c00b-375d-443a-8494-4a44b7c2699f",
   "metadata": {},
   "outputs": [
    {
     "ename": "NameError",
     "evalue": "name 'time' is not defined",
     "output_type": "error",
     "traceback": [
      "\u001b[0;31m---------------------------------------------------------------------------\u001b[0m",
      "\u001b[0;31mNameError\u001b[0m                                 Traceback (most recent call last)",
      "\u001b[0;32m/var/folders/0z/qwb90485161gxm3n21_7r53w0000gn/T/ipykernel_5493/3692005348.py\u001b[0m in \u001b[0;36m<module>\u001b[0;34m\u001b[0m\n\u001b[1;32m      7\u001b[0m \u001b[0;31m# Construct the URL with query parameters\u001b[0m\u001b[0;34m\u001b[0m\u001b[0;34m\u001b[0m\u001b[0m\n\u001b[1;32m      8\u001b[0m \u001b[0mbase_url\u001b[0m \u001b[0;34m=\u001b[0m \u001b[0;34m'https://gateway.marvel.com/v1/public/characters'\u001b[0m\u001b[0;34m\u001b[0m\u001b[0;34m\u001b[0m\u001b[0m\n\u001b[0;32m----> 9\u001b[0;31m \u001b[0mtimestamp\u001b[0m \u001b[0;34m=\u001b[0m \u001b[0mstr\u001b[0m\u001b[0;34m(\u001b[0m\u001b[0mint\u001b[0m\u001b[0;34m(\u001b[0m\u001b[0mtime\u001b[0m\u001b[0;34m.\u001b[0m\u001b[0mtime\u001b[0m\u001b[0;34m(\u001b[0m\u001b[0;34m)\u001b[0m\u001b[0;34m)\u001b[0m\u001b[0;34m)\u001b[0m\u001b[0;34m\u001b[0m\u001b[0;34m\u001b[0m\u001b[0m\n\u001b[0m\u001b[1;32m     10\u001b[0m \u001b[0mdata_to_hash\u001b[0m \u001b[0;34m=\u001b[0m \u001b[0;34mf'{timestamp}{private_key}{public_key}'\u001b[0m\u001b[0;34m\u001b[0m\u001b[0;34m\u001b[0m\u001b[0m\n\u001b[1;32m     11\u001b[0m \u001b[0;34m\u001b[0m\u001b[0m\n",
      "\u001b[0;31mNameError\u001b[0m: name 'time' is not defined"
     ]
    }
   ],
   "source": [
    "import requests\n",
    "import time\n",
    "\n",
    "# Define your API keys\n",
    "public_key = '74bf7f7fb78ba016a3176fdd7b14f420'\n",
    "private_key = 'b17e64859983396bb77e7c0bd8925b43b1422d43'\n",
    "\n",
    "# Construct the URL with query parameters\n",
    "base_url = 'https://gateway.marvel.com/v1/public/characters'\n",
    "timestamp = str(int(time.time()))\n",
    "data_to_hash = f'{timestamp}{private_key}{public_key}'\n",
    "\n",
    "# Create the MD5 hash\n",
    "hash = hashlib.md5(data_to_hash.encode()).hexdigest()\n",
    "\n",
    "\n",
    "params = {\n",
    "    'ts': timestamp,\n",
    "    'apikey': public_key,\n",
    "    'hash': hash,\n",
    "}\n",
    "\n",
    "# Make the HTTP GET request\n",
    "response = requests.get(base_url, params=params)\n",
    "\n",
    "# Handle the API response\n",
    "if response.status_code == 200:\n",
    "    data = response.json()\n",
    "    print(data)\n",
    "else:\n",
    "    print(f\"Request failed with status code {response.status_code}: {response.text}\")\n"
   ]
  },
  {
   "cell_type": "code",
   "execution_count": null,
   "id": "3c66430f-3e7f-4caf-8a7c-8b5f15f2d03a",
   "metadata": {},
   "outputs": [],
   "source": []
  }
 ],
 "metadata": {
  "kernelspec": {
   "display_name": "Python 3 (ipykernel)",
   "language": "python",
   "name": "python3"
  },
  "language_info": {
   "codemirror_mode": {
    "name": "ipython",
    "version": 3
   },
   "file_extension": ".py",
   "mimetype": "text/x-python",
   "name": "python",
   "nbconvert_exporter": "python",
   "pygments_lexer": "ipython3",
   "version": "3.9.13"
  }
 },
 "nbformat": 4,
 "nbformat_minor": 5
}
